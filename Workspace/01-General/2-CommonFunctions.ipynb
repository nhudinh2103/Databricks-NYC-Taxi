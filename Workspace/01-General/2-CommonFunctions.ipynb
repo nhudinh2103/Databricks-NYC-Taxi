{
  "cells": [
    {
      "cell_type": "code",
      "execution_count": null,
      "metadata": {},
      "source": [
        "import os",
        "import math",
        "import glob",
        "import re"
      ],
      "outputs": []
    },
    {
      "cell_type": "code",
      "execution_count": null,
      "metadata": {},
      "source": [
        "prqShrinkageFactor = 0.19 #We found a saving in space of 81% with Parquet"
      ],
      "outputs": []
    },
    {
      "cell_type": "code",
      "execution_count": null,
      "metadata": {},
      "source": [
        "def analyzeTables(databaseAndTable):",
        "  try:",
        "    print(\"Table: \" + databaseAndTable)",
        "    print(\"....refresh table\")",
        "    sql(\"REFRESH TABLE \" + databaseAndTable)",
        "    print(\"....analyze table\")",
        "    sql(\"ANALYZE TABLE \" + databaseAndTable + \" COMPUTE STATISTICS\")",
        "    print(\"....done\")",
        "  except Exception as e:",
        "    return e"
      ],
      "outputs": []
    },
    {
      "cell_type": "code",
      "execution_count": null,
      "metadata": {},
      "source": [
        "def calcOutputFileCountTxtToPrq(srcDataFile, targetedFileSizeMB):",
        "  try:",
        "    estFileCount = int(math.floor((os.path.getsize(srcDataFile) * prqShrinkageFactor) / (targetedFileSizeMB * 1024 * 1024)))",
        "    if(estFileCount == 0):",
        "      return 1 ",
        "    else:",
        "      return estFileCount",
        "  except Exception as e:",
        "    return e"
      ],
      "outputs": []
    },
    {
      "cell_type": "code",
      "execution_count": null,
      "metadata": {},
      "source": [
        "#Delete residual files from job operation (_SUCCESS, _start*, _committed*)",
        "#Should be called with '/dbfs/mnt/...'",
        "def recursivelyDeleteSparkJobFlagFiles(directoryPath):",
        "  try:",
        "    files = glob.glob(directoryPath + '/**/*', recursive=True)",
        "    for file in files:",
        "      if not os.path.basename(file).endswith('parquet') and os.path.isfile(file):",
        "        fileReplaced = re.sub('/dbfs', 'dbfs:',file)",
        "        print(\"Deleting....\" +  fileReplaced)",
        "        dbutils.fs.rm(fileReplaced)",
        "  except Exception as e:",
        "    return e"
      ],
      "outputs": []
    }
  ],
  "metadata": {
    "application/vnd.databricks.v1+notebook": {
      "notebookName": "2-CommonFunctions",
      "dashboards": [],
      "notebookMetadata": {
        "pythonIndentUnit": 4
      },
      "language": "python",
      "widgets": {},
      "notebookOrigID": 0
    },
    "kernelspec": {
      "display_name": "Python 3",
      "language": "python",
      "name": "python3"
    },
    "language_info": {
      "codemirror_mode": {
        "name": "ipython",
        "version": 3
      },
      "file_extension": ".py",
      "mimetype": "text/x-python",
      "name": "python",
      "nbconvert_exporter": "python",
      "pygments_lexer": "ipython3",
      "version": "3.8.10"
    }
  },
  "nbformat": 4,
  "nbformat_minor": 5
}